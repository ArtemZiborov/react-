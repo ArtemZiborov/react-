{
  "nbformat": 4,
  "nbformat_minor": 0,
  "metadata": {
    "colab": {
      "provenance": [],
      "include_colab_link": true
    },
    "kernelspec": {
      "name": "python3",
      "display_name": "Python 3"
    },
    "language_info": {
      "name": "python"
    },
    "accelerator": "GPU",
    "gpuClass": "standard"
  },
  "cells": [
    {
      "cell_type": "markdown",
      "metadata": {
        "id": "view-in-github",
        "colab_type": "text"
      },
      "source": [
        "<a href=\"https://colab.research.google.com/github/ArtemZiborov/react-/blob/main/California_houses_price_prediction_Coursework_1.ipynb\" target=\"_parent\"><img src=\"https://colab.research.google.com/assets/colab-badge.svg\" alt=\"Open In Colab\"/></a>"
      ]
    },
    {
      "cell_type": "markdown",
      "source": [
        "Artjoms Ziborovs\n",
        "<h1> Artificial Intelligence Coursework: 1 </h>\n",
        "\n",
        "<h2> Application of Deep Learning method for Price prediction using California Housing database</h2>  \n",
        "\n",
        "\n",
        "\n",
        "<h3>California Housing Data Set Description</h3>\n",
        "\n",
        ">California housing data set contains data drawn from the 1990 U.S. Census. The following table in Figure 1 provides descriptions, data ranges, and data types for each feature in the data set.\n",
        "Data methodology was described in the census paper:\n",
        "Information data was collected on the variables using all the block groups in California from the 1990 Census. In this sample, a block group, on average, includes 1425.5 individuals living in a geographically compact area. Naturally, the geographical area included varies inversely with the population density. The distance was computed among the centroids of each block group as measured in latitude and longitude. All the block groups reporting zero entries for the independent and dependent variables were excluded. The final data contained 20,640 observations on nine characteristics.[California Housing Data Set Description](https://developers.google.com/machine-learning/crash-course/california-housing-data-description)\n",
        "\n",
        "<h3>Figure1 </br> California houses dataset description</h3>\n",
        "\n",
        "|Column title|\tDescription|Range*|\tDatatype|  \n",
        "|:----:       |:----:      |:----:|:----:   |\n",
        "|longitude  |A measure of how far west a house is; a more negative value is farther west |Longitude values range from -180 to +180 Data set min: -124.3 data set max: -114.3|float64|\n",
        "|latitude|A measure of how far north a house is; a higher value is farther north|Latitude values range from -90 to +90 Data set min: 32.5 Data set max: 42.5|float64|\n",
        "|housingMedianAge|Median age of a house within a block; a lower number is a newer building| Data set min: 1.0 Data set max: 52.0| float64|\n",
        "|totalRooms|Total number of rooms within a block| Data set min: 2.0 Data set max: 37937.0| float64|\n",
        "|totalBedrooms|\tTotal number of bedrooms within a block|Data set min:1.0 Data set max: 6445.0|float64|\n",
        "|population|Total number of people residing within a block|Data set min:3.0 Data set max:35682.0|float64|\n",
        "| households|Total number of households, a group of people residing within a home unit, for a block|Data set min: 1.0 Data set max: 6082.0| float64||medianIncome|\tMedian income for households within a block of houses (measured in tens of thousands of US Dollars)| Data set min: 0.5 Data set max: 15.0| float64|\n",
        "|medianHouseValue|\tMedian house value for households within a block (measured in US Dollars)| Data set min: 14999.0 Data set max: 500001.0| float64|\n",
        "\n",
        "\n",
        "\n",
        "\n",
        "<h3>Hypotheses</h3>\n",
        "\n",
        "* The output of an algorithm after it has been trained on a California houses dataset and applied to new data the likelihood of a particular outcome.\n",
        "* The available data is sufficient and informative to learn the relationship between inputs and outputs.\n",
        "\n",
        ">The common type of machine learning problem is regression, which consists of predicting a constant value instead of a discrete label: for instance, predicting the temperature tomorrow, given meteorological data or predicting the time that a software project will take to complete, given its specifications. In California houses dataset we will use 8 input parameters described in a Figure 1\n",
        "Each *feature* in the California housing dataset (for example, population or number of rooms) is split as training/test ratio, for training data 50% and test data 50%. Amount of training data was defined as `n_train = int(n_examples * 0.50)` and testing data `n_test = int(n_examples * 0.50)`. "
      ],
      "metadata": {
        "id": "HHK8PHtgKgdb"
      }
    },
    {
      "cell_type": "code",
      "source": [
        "import matplotlib.pyplot as plt\n",
        "import tensorflow as tf\n",
        "import numpy as np\n",
        "import tensorflow as tf\n",
        "from tensorflow import keras\n",
        "from tensorflow.keras import models\n",
        "from tensorflow.keras import layers\n",
        "from tensorflow.keras.optimizers import Adam\n",
        "from tensorflow.keras.losses import MeanSquaredError\n",
        "from tensorflow.keras.losses import MeanAbsoluteError"
      ],
      "metadata": {
        "id": "WVPPCR4LxDv-"
      },
      "execution_count": null,
      "outputs": []
    },
    {
      "cell_type": "markdown",
      "source": [
        "><h2>Importing necessary libraries</h2>\n",
        "\n",
        "\n",
        "><h3>Tensors</h3>\n",
        "Tensors are multi-dimensional arrays with a uniform type (called a data type), and they are (kind of) like np. arrays.\n",
        "All tensors are immutable, like Python numbers and strings: you can never update the contents of a tensor, only create a new one.\n",
        "\n",
        ">TensorFlow follows standard Python indexing rules, similar to indexing a list or a string in Python{:.external}, and the basic rules for NumPy indexing.\n",
        "Indexes start at 0 negative indices count backwards from the end\n",
        "colons, :, are used for slices: start:stop:step\n",
        "\n",
        "><h3>Tensorflow</h3>\n",
        "TensorFlow is a Python-based, free, open-source machine learning platform developed primarily by Google. Much like NumPy, the primary purpose of TensorFlow is to enable engineers and researchers to manipulate mathematical expressions over numerical tensors. However, TensorFlow goes far beyond the scope of NumPy in the following ways:\n",
        "\n",
        "* It can automatically compute the gradient of any differentiable expression, making it highly suitable for machine learning. \n",
        "* It can run not only on CPUs but also on GPUs and TPUs, highly parallel hardware accelerators. Computation defined in TensorFlow can be easily distributed across many machines.\n",
        "* TensorFlow programs can be exported to other runtimes, such as C++, JavaScript (for browser-based applications), TensorFlow Lite (for applications running on mobile devices or embedded devices), Etc. \n",
        "* This makes TensorFlow applications easy to deploy in practical settings.\n",
        "\n",
        ">`Chollet, Francois. Deep Learning with Python, Second Edition (p. 69). Manning. Kindle Edition.`\n",
        "\n",
        "><h3>Keras</h3>\n",
        "Keras is a deep learning API for Python, built on top of TensorFlow, that provides a convenient way to define and train any kind of deep learning model. Keras was initially developed for research, with the aim of enabling fast deep learning experimentation. Through TensorFlow, Keras can run on top of different types of hardware (see figure 3.1)—GPU, TPU, or plain CPU—and can be seamlessly scaled to thousands of machines.\n",
        "\n",
        ">`Chollet, Francois. Deep Learning with Python, Second Edition (p. 69). Manning. Kindle Edition.`\n",
        "\n",
        ">The listed below may be translated to TensorFlow APIs: \n",
        "  * Tensors, including special tensors that store the network’s state (variables)\n",
        "  * Tensor operations such as addition, ReLu, matmul\n",
        "  * Backpropagation, a way to compute the gradient of mathematical expressions (handled in TensorFlow via the GradientTape object) \n",
        "\n",
        ">Second, high-level deep learning concepts. This translates to Keras APIs: \n",
        "* Layers, which are combined into a model. \n",
        "* A loss function, which defines the feedback signal used for learning. \n",
        "* An optimizer, which determines how learning proceeds.\n",
        "* Metrics to evaluate model performance, such as accuracy.\n",
        "* A training loop that performs mini-batch stochastic gradient descent.`Chollet, Francois. Deep Learning with Python, Second Edition (p. 69). Manning. Kindle Edition.`\n",
        "\n",
        ">The mean squared error (MSE) tells you how close a regression line is to a set of points. It does this by taking the distances from the points to the regression line (these distances are the “errors”) and squaring them. The squaring is necessary to remove any negative signs. It also gives more weight to larger differences. It’s called the mean squared error as you’re finding the average of a set of errors. The lower the MSE, the better the forecast.[Mean Squared Error Definition](https://www.statisticshowto.com/probability-and-statistics/statistics-definitions/mean-squared-error/)\n",
        "\n",
        ">Mean Absolute Error (MAE): MAE measures the average magnitude of the errors in a set of predictions, without considering their direction. It’s the average over the test sample of the absolute differences between prediction and actual observation where all individual differences have equal weight.\n",
        "If the absolute value is not taken (the signs of the errors are not removed), the average error becomes the Mean Bias Error (MBE) and is usually intended to measure average model bias. MBE can convey useful information, but should be interpreted cautiously because positive and negative errors will cancel out.[Mean Absolute Error Definition](https://medium.com/human-in-a-machine-world/mae-and-rmse-which-metric-is-better-e60ac3bde13d)\n",
        " "
      ],
      "metadata": {
        "id": "SGV1rHbEnAKJ"
      }
    },
    {
      "cell_type": "code",
      "source": [
        "# =============================================================================\n",
        "# 2 load data\n",
        "# =============================================================================\n",
        "!wget https://www.dcc.fc.up.pt/~ltorgo/Regression/cal_housing.tgz\n",
        "!tar -xvf cal_housing.tgz\n",
        "# The file containing dataset \"cal_housing.data.tgz\" get open and read\n",
        "# the lines into a list of strings\n",
        "with open('CaliforniaHousing/cal_housing.data', 'r') as f:\n",
        "    lines = f.readlines()\n",
        "\n",
        "# The final newline character gets stripped from each line\n",
        "lines = [line.strip() for line in lines]\n",
        "\n",
        "# Each line splits into a list of strings\n",
        "lines = [line.split(',') for line in lines]\n",
        "# Data were reduced by 10000 inputs\n",
        "del lines[-10000:]\n",
        "# The data gets converted into a NumPy array\n",
        "data = np.array(lines, dtype=np.float32)\n",
        "\n",
        "# Open the file cal_housing.domain and read the lines into a list of strings\n",
        "with open('CaliforniaHousing/cal_housing.domain', 'r') as f:\n",
        "    features = f.readlines()\n",
        "\n",
        "print(features)"
      ],
      "metadata": {
        "colab": {
          "base_uri": "https://localhost:8080/"
        },
        "id": "3HEg8UEpxRBO",
        "outputId": "59c398c7-5db7-4700-b3e7-769c3665fdc8"
      },
      "execution_count": null,
      "outputs": [
        {
          "output_type": "stream",
          "name": "stdout",
          "text": [
            "--2022-11-16 11:43:21--  https://www.dcc.fc.up.pt/~ltorgo/Regression/cal_housing.tgz\n",
            "Resolving www.dcc.fc.up.pt (www.dcc.fc.up.pt)... 193.136.39.12\n",
            "Connecting to www.dcc.fc.up.pt (www.dcc.fc.up.pt)|193.136.39.12|:443... connected.\n",
            "HTTP request sent, awaiting response... 200 OK\n",
            "Length: 441963 (432K) [application/x-gzip]\n",
            "Saving to: ‘cal_housing.tgz.2’\n",
            "\n",
            "cal_housing.tgz.2   100%[===================>] 431.60K   390KB/s    in 1.1s    \n",
            "\n",
            "2022-11-16 11:43:24 (390 KB/s) - ‘cal_housing.tgz.2’ saved [441963/441963]\n",
            "\n",
            "CaliforniaHousing/cal_housing.data\n",
            "CaliforniaHousing/cal_housing.domain\n",
            "['longitude: continuous.\\n', 'latitude: continuous.\\n', 'housingMedianAge: continuous. \\n', 'totalRooms: continuous. \\n', 'totalBedrooms: continuous. \\n', 'population: continuous. \\n', 'households: continuous. \\n', 'medianIncome: continuous. \\n', 'medianHouseValue: continuous. \\n']\n"
          ]
        }
      ]
    },
    {
      "cell_type": "markdown",
      "source": [
        "\n",
        ">The California Housing database gets imported from the Portuguese university  DA UNIVERSIDADE DO PORTO. This database will be used for this coursework to predict California housing prices. As you can see, we have all 9 (indexation starting from 0) *features* downloaded in a single file. The library contains more than twenty thousand six hundred entries (20600). Data were reduced by 10000 inputs `del lines[-10000:]`. \n",
        "\n"
      ],
      "metadata": {
        "id": "AIkCy2Pz0xZE"
      }
    },
    {
      "cell_type": "code",
      "source": [
        "\n",
        "# =============================================================================\n",
        "# 3. Seperate features and targets\n",
        "# =============================================================================\n",
        "# Getting California Houses Dataset features and targets\n",
        "features = data[:,:8]\n",
        "targets = data[:,-1]\n",
        "# =============================================================================\n",
        "# 4. data scaled\n",
        "# =============================================================================\n",
        "print(\"Min\", min(targets))\n",
        "print(\"Max\", max(targets))\n",
        "# Targets converted into a NumPy array\n",
        "# Cast type of array to float for division\n",
        "targets = np.array(targets).astype(float)\n",
        "\n",
        "# NumPy array divided by 100,000 to a more manageable range\n",
        "targets = np.divide(targets, 100000)\n",
        "print(targets)"
      ],
      "metadata": {
        "colab": {
          "base_uri": "https://localhost:8080/"
        },
        "id": "-CUqjH4NxVTW",
        "outputId": "bbe1564d-7d5c-4a9d-f62e-2c3848ad546b"
      },
      "execution_count": null,
      "outputs": [
        {
          "output_type": "stream",
          "name": "stdout",
          "text": [
            "Min 14999.0\n",
            "Max 500001.0\n",
            "[4.526 3.585 3.521 ... 1.94  2.277 2.448]\n"
          ]
        }
      ]
    },
    {
      "cell_type": "markdown",
      "source": [
        ">Received data get separated by features and targets. Python slicing technique was used to extract price samples from the dataset. Then extracted data gets converted into a NumPy array and cast to float data type for future division - scaling. Prices range from 14999.0 to 500001.0."
      ],
      "metadata": {
        "id": "CpzfEyrZnZhY"
      }
    },
    {
      "cell_type": "code",
      "source": [
        "# =============================================================================\n",
        "# 5. split\n",
        "# =============================================================================\n",
        "\n",
        "# Shape on features and targets to check how many samples we have\n",
        "features = np.array(features)\n",
        "\n",
        "\n",
        "print(\"Features shape:\", features.shape)\n",
        "print(\"Targets shape:\", targets.shape)\n",
        "\n",
        "\n",
        "n_examples = len(features)\n",
        "\n",
        "# Training and testing data amount gets separated 50% for training \n",
        "# and 50% for testing \n",
        "n_train = int(n_examples * 0.50)\n",
        "n_test = int(n_examples * 0.50)\n",
        "\n",
        "# The data split into training and testing sets\n",
        "train_features = features[:n_train, :]\n",
        "train_targets = targets[:n_train]\n",
        "\n",
        "test_features = features[:n_test, :]\n",
        "test_targets = targets[:n_test]\n",
        "\n",
        "print(\"Training features shape:\", train_features.shape)\n",
        "print(\"Training targets shape:\", train_targets.shape)\n",
        "print(\"Testing features shape:\", test_features.shape)\n",
        "print(\"Testing targets shape:\", test_targets.shape)"
      ],
      "metadata": {
        "colab": {
          "base_uri": "https://localhost:8080/"
        },
        "id": "NnNrq-ftxYE1",
        "outputId": "63517857-d643-4c13-daa0-8a764190aaaf"
      },
      "execution_count": null,
      "outputs": [
        {
          "output_type": "stream",
          "name": "stdout",
          "text": [
            "Features shape: (10640, 8)\n",
            "Targets shape: (10640,)\n",
            "Training features shape: (5320, 8)\n",
            "Training targets shape: (5320,)\n",
            "Testing features shape: (5320, 8)\n",
            "Testing targets shape: (5320,)\n"
          ]
        }
      ]
    },
    {
      "cell_type": "markdown",
      "source": [
        "After spliting the data we can observe 10640 features in total 5320 training samples and 5320 test (target) samples, each with 8 numerical features, such as per population, number of rooms, longtitude, and so on."
      ],
      "metadata": {
        "id": "EWAcFBP91Mb0"
      }
    },
    {
      "cell_type": "code",
      "source": [
        "# =============================================================================\n",
        "# 6. Normalisation, only the features\n",
        "# =============================================================================\n",
        "\n",
        "mean = train_features.mean(axis = 0)\n",
        "train_features -= mean # shift\n",
        "std = train_features.std(axis = 0)\n",
        "train_features /= std # rescale\n",
        "\n",
        "test_features -= mean\n",
        "test_features /= std\n",
        "train_features.shape[1]"
      ],
      "metadata": {
        "colab": {
          "base_uri": "https://localhost:8080/"
        },
        "id": "Shl6rMGhxaWV",
        "outputId": "8c623365-0303-4078-fd97-34d6c226560e"
      },
      "execution_count": null,
      "outputs": [
        {
          "output_type": "execute_result",
          "data": {
            "text/plain": [
              "8"
            ]
          },
          "metadata": {},
          "execution_count": 26
        }
      ]
    },
    {
      "cell_type": "markdown",
      "source": [
        ">The problem in the case of the California Housing dataset is input data with different ranges of values. Nevertheless, the problem can be solved by applying automatic adaptation to heterogeneous data, but it makes learning more difficult. To deal with such a problem, feature-wise normalization applyed. For each feature in the input data (a column in the input data matrix), we subtract the mean of the feature and divide it by the standard deviation so that the feature is centred around 0 and has a unit standard deviation. This is quickly done in NumPy.`\"Chollet, Francois. Deep Learning with Python, Second Edition (p. 114).`\n",
        "\n"
      ],
      "metadata": {
        "id": "JhNCETmo6XGq"
      }
    },
    {
      "cell_type": "markdown",
      "metadata": {
        "id": "a4abb849"
      },
      "source": [
        "The math...\n",
        "\n",
        "$$\n",
        "\\bbox[5px,border:2px solid red]\n",
        "{\n",
        "X'={\\frac {X-X_{\\min }}{X_{\\max}-X_{\\min }}}}\n",
        "$$\n",
        "\n",
        "$X$: our data   \n",
        "$X_{\\min }$: the min value in our data  \n",
        "$X_{\\max}$: the max value in our data  \n",
        "\n",
        "Test data is normalised using the mean and standard deviation of the *training* set.\n",
        "\n",
        "In general, we want the **train** and **test** (and any further data) sets to come for the **same distribution**.\n",
        "\n",
        "But we also want to keep our **test** aside, not get any influence from it.\n",
        "\n",
        "Treat it as if was really data our net would encounter *in the wild*."
      ]
    },
    {
      "cell_type": "code",
      "source": [
        "# =============================================================================\n",
        "# 7. build the model\n",
        "# =============================================================================\n",
        "opt = keras.optimizers.Adam()\n",
        "def build_model():\n",
        "    model = models.Sequential()\n",
        "    #intermediate layers, each with 128 units\n",
        "    model.add(layers.Dense(128, activation = 'relu', input_shape = (train_features.shape[1],)))\n",
        "    model.add(layers.Dense(128, activation = 'relu'))  \n",
        "    # ↓ NO ACTIVATION! Just predict (any) number\n",
        "    model.add(layers.Dense(1))\n",
        "    # ↑ -------------------------------------------\n",
        "    model.compile(\n",
        "        optimizer=opt,\n",
        "        loss='mse',\n",
        "        metrics=['mae', 'accuracy']\n",
        "    )\n",
        "    \n",
        "    return model\n"
      ],
      "metadata": {
        "id": "AirKYco2xfEd"
      },
      "execution_count": null,
      "outputs": []
    },
    {
      "cell_type": "markdown",
      "source": [
        ">Before building model, Adam Optimizer will be used.\n",
        "\n",
        ">Adaptive Moment Estimation - Adam is an algorithm for optimization technique for gradient descent. The method is really efficient when working with large problem involving a lot of data or parameters. It requires less memory and is efficient. Intuitively, it is a combination of the ‘gradient descent with momentum’ algorithm and the ‘RMSP’ algorithm.[Intuition of Adam Optimizer](https://www.geeksforgeeks.org/intuition-of-adam-optimizer/)\n",
        "\n",
        ">A deep learning model is a graph of layers. In Keras, that’s the Model class. In this model I'm using Sequential models (a subclass of Model), which are simple stacks of layers, mapping a single input to a single output. `Chollet, Francois. Deep Learning with Python, Second Edition (p. 87). Manning. Kindle Edition.` \n",
        "\n",
        ">The rectified linear activation function or ReLU for short is a piecewise linear function that will output the input directly if it is positive, otherwise, it will output zero. It has become the default activation function for many types of neural networks because a model that uses it is easier to train and often achieves better performance.[A Gentle Introduction to the Rectified Linear Unit (ReLU)](https://machinelearningmastery.com/rectified-linear-activation-function-for-deep-learning-neural-networks/)\n",
        "\n",
        ">Because our model is reduced, we’ll use a smaller model with three intermediate layers, each with 128 units. In general, the less training data you have, the worse overfitting will be, and using a small model is one way to mitigate overfitting.`Chollet, Francois. Deep Learning with Python, Second Edition (p. 115). Manning. Kindle Edition.` "
      ],
      "metadata": {
        "id": "qhOYjK2Vwgod"
      }
    },
    {
      "cell_type": "code",
      "source": [
        "# =============================================================================\n",
        "# custom callback\n",
        "# =============================================================================\n",
        "class CustomCallback(tf.keras.callbacks.Callback):\n",
        "    def __init__(self, epochs):\n",
        "        super(tf.keras.callbacks.Callback, self).__init__()\n",
        "        self.epochs = epochs\n",
        "    def on_epoch_begin(self, epoch, logs=None):\n",
        "        c = ['|', '/', '-', '\\\\'] \n",
        "        print(f\"\\r{c[epoch % 4]} epoch: {epoch+1}/{self.epochs}\", end=\"\")\n",
        "    def on_train_end(self, logs=None):\n",
        "        print()\n",
        "    "
      ],
      "metadata": {
        "id": "4uBuulWexnSt"
      },
      "execution_count": null,
      "outputs": []
    },
    {
      "cell_type": "markdown",
      "source": [
        ">A callback is a powerful tool to customize the behavior of a Keras model during training, evaluation, or inference. Examples include tf.keras.callbacks.TensorBoard to visualize training progress and results with TensorBoard, or tf.keras.callbacks.ModelCheckpoint to periodically save your model during training."
      ],
      "metadata": {
        "id": "FltF3jv4uHR2"
      }
    },
    {
      "cell_type": "markdown",
      "source": [
        "<!-- | households|Total number of households, a group of people residing within a home unit, for a block|Data set min: 1.0 Data set max: 6082.0| float64||medianIncome|\tMedian income for households within a block of houses (measured in tens of thousands of US Dollars)| Data set min: 0.5 Data set max: 15.0| float64|\n",
        "|medianHouseValue|\tMedian house value for households within a block (measured in US Dollars)| Data set min: 14999.0 Data set max: 500001.0| float64| -->"
      ],
      "metadata": {
        "id": "uzvbTMQsbIXt"
      }
    },
    {
      "cell_type": "code",
      "execution_count": null,
      "metadata": {
        "id": "02sl43QmFhEE"
      },
      "outputs": [],
      "source": [
        "  \n",
        "# =============================================================================\n",
        "# k fold\n",
        "# =============================================================================\n",
        "K = 6\n",
        "num_val_samples = len(train_features) // K\n",
        "num_epochs = 500\n",
        "all_mae_histories = []\n",
        "\n",
        "mse = []\n",
        "mae = []\n",
        "acc = []\n",
        "\n",
        "for i in range(K):\n",
        "    print('processing fold', i)\n",
        "    # Prepare the validation data: data from partition i\n",
        "    a, b = i * num_val_samples, (i + 1) * num_val_samples\n",
        "    val_data = train_features[a : b]\n",
        "    val_targets = train_targets[a : b]\n",
        "    \n",
        "    # Prepare the training data: data from all other partitions\n",
        "    partial_train_features = np.concatenate([train_features[:a], train_features[b:]], axis=0)\n",
        "    partial_train_targets = np.concatenate([train_targets[:a], train_targets[b:]], axis=0)\n",
        "\n",
        "    # Build the Keras model (already compiled)\n",
        "    model = build_model()\n",
        "\n",
        "    # Train the model (in silent mode, verbose=0)\n",
        "    history = model.fit(\n",
        "        partial_train_features,\n",
        "        partial_train_targets,\n",
        "        validation_data=(val_data, val_targets),\n",
        "        validation_split=0.2,\n",
        "        epochs=num_epochs, batch_size=150, verbose=1, \n",
        "        callbacks=[CustomCallback(num_epochs)]\n",
        "    )\n",
        "\n",
        "    \n",
        "    # Validation history\n",
        "    val_mse, val_mae, val_acc = model.evaluate(val_data, val_targets, verbose=0)\n",
        "\n",
        "    print(\"Validation MSE:\", val_mse)\n",
        "    print(\"Validation MAE:\", val_mae)\n",
        "    print(\"Validation Accuracy:\", val_acc)\n",
        "\n",
        "    # Append to the corresponding arrays\n",
        "    mse.append(val_mse)\n",
        "    mae.append(val_mae)\n",
        "    acc.append(val_acc)\n",
        "\n",
        "    mae_history = history.history['val_mae']\n",
        "\n",
        "    all_mae_histories.append(mae_history)\n",
        "    # rescaling data to original values\n",
        "    targets = np.multiply(mae_history, 100000)\n",
        "    print(targets)"
      ]
    },
    {
      "cell_type": "markdown",
      "source": [
        "<h3>Validating your approach using K-fold validation</h3>\n",
        "\n",
        ">To evaluate our model while we keep adjusting its parameters (such as the number of epochs used for training), we could split the data into a training set and a validation set. As a consequence, the validation scores might change a lot depending on which data points we chose for validation and which we chose for training: the validation scores might have a high variance with regard to the validation split. This would prevent us from reliably evaluating our model.\n",
        "`Chollet, Francois. Deep Learning with Python, Second Edition (pp. 115-116). Manning. Kindle Edition.` "
      ],
      "metadata": {
        "id": "rF7sVMi458kV"
      }
    },
    {
      "cell_type": "code",
      "source": [
        "def smooth_curve(points, beta = 0.9):       # beta must be between 0 and 1!\n",
        "    smoothed_points = []\n",
        "    for current in points:\n",
        "        if smoothed_points:                 # (an nonempty list is 'True')\n",
        "            previous = smoothed_points[-1]  # the last appended point\n",
        "                                            # ↓ a weighted sum of previous & point, controlled by beta\n",
        "            smoothed_points.append(beta * previous + (1 - beta) * current)\n",
        "        else:\n",
        "            smoothed_points.append(current) # at the start, the list is empty, we just add the first point\n",
        "    return smoothed_points"
      ],
      "metadata": {
        "id": "95rWd2HL9_nZ"
      },
      "execution_count": null,
      "outputs": []
    },
    {
      "cell_type": "markdown",
      "source": [
        "<h3>Smoothing a curve</h3>\n",
        "\n",
        ">If you import a curve from an instrument, you may wish to smooth the data to improve the appearance of a graph. Since you lose data when you smooth a curve, you should not smooth a curve prior to nonlinear regression or other analyses. Smoothing is not a method of data analysis, but is purely a way to create a more attractive graph.[Smoothing, differentiating and integrating curves](https://www.graphpad.com/guides/prism/latest/statistics/stat_smoothing_differentiating_and_integrating_curves.htm)\n"
      ],
      "metadata": {
        "id": "IwsvcS1c9AW1"
      }
    },
    {
      "cell_type": "code",
      "source": [
        "# Validation MSE (Max, Min)\n",
        "mse_max = max(mse)\n",
        "mse_min = min(mse)\n",
        "print(\"Validation MSE (Max, Min):\", mse_max, mse_min)\n",
        "\n",
        "# Validation MAE (Max, Min)\n",
        "mae_max = max(mae)\n",
        "mae_min = min(mae)\n",
        "print(\"Validation MAE (Max, Min):\", mae_max, mae_min)\n",
        "\n",
        "# Validation Accuracy (Max, Min)\n",
        "acc_max = max(acc)\n",
        "acc_min = min(acc)\n",
        "print(\"Validation Accuracy (Max, Min):\", acc_max, acc_min)\n",
        "\n",
        "# Plot mse, mae and acc\n",
        "plt.plot(range(1, len(mse) + 1), mse)\n",
        "plt.plot(range(1, len(mae) + 1), mae)\n",
        "plt.plot(range(1, len(acc) + 1), acc)\n",
        "plt.xlabel('Epochs')\n",
        "plt.ylabel('Validation MSE, MAE, Accuracy')\n",
        "plt.legend(['MSE', 'MAE', 'Accuracy'])\n",
        "plt.show()"
      ],
      "metadata": {
        "id": "5fjU4P-97qFe",
        "outputId": "380b2070-5301-4e0d-8315-7f9c7071205e",
        "colab": {
          "base_uri": "https://localhost:8080/",
          "height": 331
        }
      },
      "execution_count": null,
      "outputs": [
        {
          "output_type": "stream",
          "name": "stdout",
          "text": [
            "Validation MSE (Max, Min): 0.9524012804031372 0.26046350598335266\n",
            "Validation MAE (Max, Min): 0.7120282053947449 0.34874647855758667\n",
            "Validation Accuracy (Max, Min): 0.013544018380343914 0.0011286681983619928\n"
          ]
        },
        {
          "output_type": "display_data",
          "data": {
            "text/plain": [
              "<Figure size 432x288 with 1 Axes>"
            ],
            "image/png": "[encoded data removed]"
          },
          "metadata": {
            "needs_background": "light"
          }
        }
      ]
    },
    {
      "cell_type": "markdown",
      "source": [
        "![Image 1](https://drive.google.com/uc?export=view&id=1jmZa7l9LWAx6DyXWJKJjUbIZprp5IwJE)\n",
        "\n",
        "<small>[Overfitting & Underfitting in Machine Learning](https://vitalflux.com/overfitting-underfitting-concepts-interview-questions/)</small>\n"
      ],
      "metadata": {
        "id": "Vi-MUYehQ11T"
      }
    },
    {
      "cell_type": "code",
      "source": [
        "sm_history = smooth_curve(np.array(all_mae_histories).mean(axis=0))\n",
        "plt.plot(range(1, len(sm_history) + 1), sm_history)\n",
        "plt.xlabel('Epochs')\n",
        "plt.ylabel('Validation MAE')\n",
        "plt.show()"
      ],
      "metadata": {
        "colab": {
          "base_uri": "https://localhost:8080/",
          "height": 279
        },
        "id": "GRx5n9XX43bv",
        "outputId": "8a44d627-73f3-4350-f7b6-58be3a956820"
      },
      "execution_count": null,
      "outputs": [
        {
          "output_type": "display_data",
          "data": {
            "text/plain": [
              "<Figure size 432x288 with 1 Axes>"
            ],
            "image/png": "[encoded data removed]"
          },
          "metadata": {
            "needs_background": "light"
          }
        }
      ]
    },
    {
      "cell_type": "code",
      "source": [
        "\n",
        "average_mae_history = np.array(all_mae_histories).mean(axis=0)\n",
        "plt.plot(range(1, len(average_mae_history) + 1), average_mae_history)\n",
        "plt.xlabel('Epochs')\n",
        "plt.ylabel('Validation MAE')\n",
        "plt.show()"
      ],
      "metadata": {
        "id": "o7vXCD77IinB",
        "colab": {
          "base_uri": "https://localhost:8080/",
          "height": 279
        },
        "outputId": "4c64d504-2889-47e8-88a2-a7ed2f789ac0"
      },
      "execution_count": null,
      "outputs": [
        {
          "output_type": "display_data",
          "data": {
            "text/plain": [
              "<Figure size 432x288 with 1 Axes>"
            ],
            "image/png": "[encoded data removed]"
          },
          "metadata": {
            "needs_background": "light"
          }
        }
      ]
    },
    {
      "cell_type": "code",
      "source": [
        "truncated_mae_history = average_mae_history[10:]\n",
        "plt.plot(range(1, len(truncated_mae_history) + 1), truncated_mae_history)\n",
        "plt.xlabel(\"Epochs\")\n",
        "plt.ylabel(\"Validation MAE\")\n",
        "plt.show()"
      ],
      "metadata": {
        "id": "DP9ImYl9VGPM",
        "colab": {
          "base_uri": "https://localhost:8080/",
          "height": 279
        },
        "outputId": "73a9b959-f479-4b4e-eaa8-5097e90c5a29"
      },
      "execution_count": null,
      "outputs": [
        {
          "output_type": "display_data",
          "data": {
            "text/plain": [
              "<Figure size 432x288 with 1 Axes>"
            ],
            "image/png": "[encoded data removed]"
          },
          "metadata": {
            "needs_background": "light"
          }
        }
      ]
    },
    {
      "cell_type": "code",
      "source": [
        "model = build_model()\n",
        "model.fit(\n",
        "    train_features, # ← WHOLE TRAINING DATA\n",
        "    train_targets,\n",
        "#            # ↓ EPOCH WITH LOWEST MAE ------\n",
        "    epochs = np.argmin(average_mae_history), # could do another run with smooth_mae_history as well\n",
        "#            # ↑ ----------------------------\n",
        "    batch_size = 100\n",
        ")"
      ],
      "metadata": {
        "id": "xrXalOHEAq2G"
      },
      "execution_count": null,
      "outputs": []
    },
    {
      "cell_type": "code",
      "source": [
        "sm_history = smooth_curve(np.array(all_mae_histories).mean(axis=0))\n",
        "plt.plot(range(1, len(sm_history) + 1), sm_history)\n",
        "plt.xlabel('Epochs')\n",
        "plt.ylabel('Validation MAE')\n",
        "plt.show()"
      ],
      "metadata": {
        "colab": {
          "base_uri": "https://localhost:8080/",
          "height": 279
        },
        "id": "qW1l5zrotHZ2",
        "outputId": "2581dafb-ea37-463d-d9d2-d8ce3e48ef09"
      },
      "execution_count": null,
      "outputs": [
        {
          "output_type": "display_data",
          "data": {
            "text/plain": [
              "<Figure size 432x288 with 1 Axes>"
            ],
            "image/png": "[encoded data removed]"
          },
          "metadata": {
            "needs_background": "light"
          }
        }
      ]
    },
    {
      "cell_type": "code",
      "source": [
        "average_mae_history = np.array(all_mae_histories).mean(axis=0)\n",
        "plt.plot(range(1, len(average_mae_history) + 1), average_mae_history)\n",
        "plt.xlabel('Epochs')\n",
        "plt.ylabel('Validation MAE')\n",
        "plt.show()"
      ],
      "metadata": {
        "colab": {
          "base_uri": "https://localhost:8080/",
          "height": 279
        },
        "id": "GZ3eobcL9FSr",
        "outputId": "dfa73515-2a50-4fb9-bbfe-9b6d0d439ef5"
      },
      "execution_count": null,
      "outputs": [
        {
          "output_type": "display_data",
          "data": {
            "text/plain": [
              "<Figure size 432x288 with 1 Axes>"
            ],
            "image/png": "[encoded data removed]"
          },
          "metadata": {
            "needs_background": "light"
          }
        }
      ]
    },
    {
      "cell_type": "markdown",
      "source": [
        "In summary, using The California dataset with fewer input data *features* parameters, I can observe a massive improvement in processing validation, training and test data. Reducing the whole amount of data in the dataset will give better results in training, testing and validation. As depicted in the plotted graph in Figure 1, a total of 20640 samples model produced worse results on 500 epochs with several folds and a split data ratio of 25% for training and 75% for testing.  \n",
        "\n",
        "|Model Seq.No |Number of layers | Layer denses | Number of Epochs | Batch size | Number of K-Folds | Learning Rate | Results |Amount of Data used|Training/test ratio|\n",
        "|:-----------:|:-----------:|:--:|:------------:|:------------:|:----:|:-------:|:----------------:|:--------:|:---:|\n",
        "1 | 3 | 128 | 500 | 150 | 4 |  0.001 | Overfitting data|20600|25%/75%|\n",
        "2 | 2 | 128, 64 | 500 | 150 | 4 | Default | Improved results|10640|50%/50%\n",
        "3 | 3 | 128 | 500 | 150 | 6 | Default | More improved results|10640|50%/50%\n",
        "\n",
        "* Figure 2\n",
        "\n",
        "![Figure 2](https://drive.google.com/uc?export=view&id=1ggxx-12xWXZIoDJSeJlQf3I6lAOhR1hA)\n",
        "\n",
        "Test conducted 11/11/2022 at 20:30 \n",
        "With Parameters \n",
        "K - fold = 4\n",
        "num_epochs = 500\n",
        "Using three dense layer and Adam optimiser with learning rate 0.01   \n",
        "\n",
        "\n",
        "    def build_model():\n",
        "    history = model.fit(\n",
        "        partial_train_features,\n",
        "        partial_train_targets,\n",
        "        validation_data=(val_data, val_targets),\n",
        "        epochs=num_epochs, batch_size=150, verbose=1, \n",
        "        callbacks=[CustomCallback(num_epochs)]\n",
        "    )\n",
        "\n",
        "    mae_history = history.history['val_mae']\n",
        "    all_mae_histories.append(mae_history)\n",
        "    targets = np.multiply(mae_history, 100000)\n",
        "    print(targets)\n",
        "\n",
        "    opt = keras.optimizers.Adam(learning_rate=0.001)\n",
        "\n",
        " \n",
        "    model = models.Sequential()\n",
        "    model.add(\n",
        "        layers.Dense(\n",
        "            128, activation = 'relu', input_shape = (train_features.shape[1], )\n",
        "        )\n",
        "    )\n",
        "    model.add(layers.Dense(128, activation = 'relu'))\n",
        "    model.add(layers.Dense(128, activation = 'relu'))\n",
        "    model.compile(\n",
        "        optimizer=opt,\n",
        "        loss='mse',\n",
        "        metrics=['mae']\n",
        "    )\n",
        "    \n",
        "\n",
        "\n",
        "\n"
      ],
      "metadata": {
        "id": "0Tayl0u7ZMmb"
      }
    }
  ]
}